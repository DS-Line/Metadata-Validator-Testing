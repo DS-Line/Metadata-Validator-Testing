{
 "cells": [
  {
   "cell_type": "code",
   "execution_count": 1,
   "metadata": {},
   "outputs": [],
   "source": [
    "from simple_ddl_parser import DDLParser\n",
    "import yaml\n",
    "import sys\n",
    "import os"
   ]
  },
  {
   "cell_type": "code",
   "execution_count": 2,
   "metadata": {},
   "outputs": [],
   "source": [
    "file_path = \"../../assets/DDL/departments.sql\""
   ]
  },
  {
   "cell_type": "code",
   "execution_count": 3,
   "metadata": {},
   "outputs": [],
   "source": [
    "with open(file_path,'r') as f:\n",
    "    ddl = f.read()"
   ]
  },
  {
   "cell_type": "code",
   "execution_count": 4,
   "metadata": {},
   "outputs": [],
   "source": [
    "parsed_ddl = DDLParser(ddl).run(output_mode = \"hql\")"
   ]
  },
  {
   "cell_type": "code",
   "execution_count": 5,
   "metadata": {},
   "outputs": [
    {
     "name": "stdout",
     "output_type": "stream",
     "text": [
      "[{'alter': {},\n",
      "  'checks': [],\n",
      "  'collection_items_terminated_by': None,\n",
      "  'columns': [{'check': None,\n",
      "               'default': None,\n",
      "               'name': 'department_id',\n",
      "               'nullable': False,\n",
      "               'references': None,\n",
      "               'size': None,\n",
      "               'type': 'INT',\n",
      "               'unique': False},\n",
      "              {'check': None,\n",
      "               'default': None,\n",
      "               'name': 'department_code',\n",
      "               'nullable': True,\n",
      "               'references': None,\n",
      "               'size': 10,\n",
      "               'type': 'VARCHAR',\n",
      "               'unique': True},\n",
      "              {'check': None,\n",
      "               'default': None,\n",
      "               'name': 'name',\n",
      "               'nullable': False,\n",
      "               'references': None,\n",
      "               'size': 100,\n",
      "               'type': 'VARCHAR',\n",
      "               'unique': False}],\n",
      "  'external': False,\n",
      "  'fields_terminated_by': None,\n",
      "  'index': [],\n",
      "  'lines_terminated_by': None,\n",
      "  'map_keys_terminated_by': None,\n",
      "  'partitioned_by': [],\n",
      "  'primary_key': ['department_id'],\n",
      "  'row_format': None,\n",
      "  'schema': None,\n",
      "  'stored_as': None,\n",
      "  'table_name': 'departments',\n",
      "  'tablespace': None,\n",
      "  'temp': False},\n",
      " {'alter': {},\n",
      "  'checks': [],\n",
      "  'collection_items_terminated_by': None,\n",
      "  'columns': [{'check': None,\n",
      "               'default': None,\n",
      "               'name': 'professor_id',\n",
      "               'nullable': False,\n",
      "               'references': None,\n",
      "               'size': None,\n",
      "               'type': 'INT',\n",
      "               'unique': False},\n",
      "              {'check': None,\n",
      "               'default': None,\n",
      "               'name': 'name',\n",
      "               'nullable': False,\n",
      "               'references': None,\n",
      "               'size': 100,\n",
      "               'type': 'VARCHAR',\n",
      "               'unique': False},\n",
      "              {'check': None,\n",
      "               'default': None,\n",
      "               'name': 'department_codee',\n",
      "               'nullable': True,\n",
      "               'references': {'column': 'department_code',\n",
      "                              'deferrable_initially': None,\n",
      "                              'on_delete': None,\n",
      "                              'on_update': None,\n",
      "                              'schema': None,\n",
      "                              'table': 'departments'},\n",
      "               'size': 10,\n",
      "               'type': 'VARCHAR',\n",
      "               'unique': False}],\n",
      "  'external': False,\n",
      "  'fields_terminated_by': None,\n",
      "  'index': [],\n",
      "  'lines_terminated_by': None,\n",
      "  'map_keys_terminated_by': None,\n",
      "  'partitioned_by': [],\n",
      "  'primary_key': ['professor_id'],\n",
      "  'row_format': None,\n",
      "  'schema': None,\n",
      "  'stored_as': None,\n",
      "  'table_name': 'professors',\n",
      "  'tablespace': None,\n",
      "  'temp': False},\n",
      " {'alter': {},\n",
      "  'checks': [],\n",
      "  'collection_items_terminated_by': None,\n",
      "  'columns': [{'check': None,\n",
      "               'default': None,\n",
      "               'name': 'student_id',\n",
      "               'nullable': False,\n",
      "               'references': None,\n",
      "               'size': None,\n",
      "               'type': 'INT',\n",
      "               'unique': False},\n",
      "              {'check': None,\n",
      "               'default': None,\n",
      "               'name': 'name',\n",
      "               'nullable': False,\n",
      "               'references': None,\n",
      "               'size': 100,\n",
      "               'type': 'VARCHAR',\n",
      "               'unique': False},\n",
      "              {'check': None,\n",
      "               'default': None,\n",
      "               'name': 'email',\n",
      "               'nullable': True,\n",
      "               'references': None,\n",
      "               'size': 100,\n",
      "               'type': 'VARCHAR',\n",
      "               'unique': True},\n",
      "              {'check': None,\n",
      "               'default': None,\n",
      "               'name': 'enrollment_year',\n",
      "               'nullable': True,\n",
      "               'references': None,\n",
      "               'size': None,\n",
      "               'type': 'INT',\n",
      "               'unique': False}],\n",
      "  'external': False,\n",
      "  'fields_terminated_by': None,\n",
      "  'index': [],\n",
      "  'lines_terminated_by': None,\n",
      "  'map_keys_terminated_by': None,\n",
      "  'partitioned_by': [],\n",
      "  'primary_key': ['student_id'],\n",
      "  'row_format': None,\n",
      "  'schema': None,\n",
      "  'stored_as': None,\n",
      "  'table_name': 'students',\n",
      "  'tablespace': None,\n",
      "  'temp': False},\n",
      " {'alter': {},\n",
      "  'checks': [],\n",
      "  'collection_items_terminated_by': None,\n",
      "  'columns': [{'check': None,\n",
      "               'default': None,\n",
      "               'name': 'course_id',\n",
      "               'nullable': False,\n",
      "               'references': None,\n",
      "               'size': None,\n",
      "               'type': 'INT',\n",
      "               'unique': False},\n",
      "              {'check': None,\n",
      "               'default': None,\n",
      "               'name': 'title',\n",
      "               'nullable': False,\n",
      "               'references': None,\n",
      "               'size': 100,\n",
      "               'type': 'VARCHAR',\n",
      "               'unique': False},\n",
      "              {'check': None,\n",
      "               'default': None,\n",
      "               'name': 'department_id',\n",
      "               'nullable': True,\n",
      "               'references': {'column': 'department_id',\n",
      "                              'deferrable_initially': None,\n",
      "                              'on_delete': None,\n",
      "                              'on_update': None,\n",
      "                              'schema': None,\n",
      "                              'table': 'departments'},\n",
      "               'size': None,\n",
      "               'type': 'INT',\n",
      "               'unique': False},\n",
      "              {'check': None,\n",
      "               'default': None,\n",
      "               'name': 'professor_id',\n",
      "               'nullable': True,\n",
      "               'references': {'column': 'professor_id',\n",
      "                              'deferrable_initially': None,\n",
      "                              'on_delete': None,\n",
      "                              'on_update': None,\n",
      "                              'schema': None,\n",
      "                              'table': 'professors'},\n",
      "               'size': None,\n",
      "               'type': 'INT',\n",
      "               'unique': False}],\n",
      "  'external': False,\n",
      "  'fields_terminated_by': None,\n",
      "  'index': [],\n",
      "  'lines_terminated_by': None,\n",
      "  'map_keys_terminated_by': None,\n",
      "  'partitioned_by': [],\n",
      "  'primary_key': ['course_id'],\n",
      "  'row_format': None,\n",
      "  'schema': None,\n",
      "  'stored_as': None,\n",
      "  'table_name': 'courses',\n",
      "  'tablespace': None,\n",
      "  'temp': False},\n",
      " {'alter': {},\n",
      "  'checks': [],\n",
      "  'collection_items_terminated_by': None,\n",
      "  'columns': [{'check': None,\n",
      "               'default': None,\n",
      "               'name': 'enrollment_id',\n",
      "               'nullable': False,\n",
      "               'references': None,\n",
      "               'size': None,\n",
      "               'type': 'INT',\n",
      "               'unique': False},\n",
      "              {'check': None,\n",
      "               'default': None,\n",
      "               'name': 'student_id',\n",
      "               'nullable': True,\n",
      "               'references': {'column': 'student_id',\n",
      "                              'deferrable_initially': None,\n",
      "                              'on_delete': None,\n",
      "                              'on_update': None,\n",
      "                              'schema': None,\n",
      "                              'table': 'students'},\n",
      "               'size': None,\n",
      "               'type': 'INT',\n",
      "               'unique': False},\n",
      "              {'check': None,\n",
      "               'default': None,\n",
      "               'name': 'course_id',\n",
      "               'nullable': True,\n",
      "               'references': {'column': 'course_id',\n",
      "                              'deferrable_initially': None,\n",
      "                              'on_delete': None,\n",
      "                              'on_update': None,\n",
      "                              'schema': None,\n",
      "                              'table': 'courses'},\n",
      "               'size': None,\n",
      "               'type': 'INT',\n",
      "               'unique': False},\n",
      "              {'check': None,\n",
      "               'default': None,\n",
      "               'name': 'enrollment_date',\n",
      "               'nullable': True,\n",
      "               'references': None,\n",
      "               'size': None,\n",
      "               'type': 'DATE',\n",
      "               'unique': False},\n",
      "              {'check': None,\n",
      "               'default': None,\n",
      "               'name': 'grade',\n",
      "               'nullable': True,\n",
      "               'references': None,\n",
      "               'size': 2,\n",
      "               'type': 'CHAR',\n",
      "               'unique': False}],\n",
      "  'external': False,\n",
      "  'fields_terminated_by': None,\n",
      "  'index': [],\n",
      "  'lines_terminated_by': None,\n",
      "  'map_keys_terminated_by': None,\n",
      "  'partitioned_by': [],\n",
      "  'primary_key': ['enrollment_id'],\n",
      "  'row_format': None,\n",
      "  'schema': None,\n",
      "  'stored_as': None,\n",
      "  'table_name': 'enrollments',\n",
      "  'tablespace': None,\n",
      "  'temp': False},\n",
      " {'comments': [' NEW unique column', ' FK now refers to a unique column']}]\n"
     ]
    }
   ],
   "source": [
    "from pprint import pprint\n",
    "pprint(parsed_ddl)"
   ]
  },
  {
   "cell_type": "code",
   "execution_count": 6,
   "metadata": {},
   "outputs": [
    {
     "name": "stdout",
     "output_type": "stream",
     "text": [
      "['/home/sulav.pokharel/anaconda3/lib/python310.zip', '/home/sulav.pokharel/anaconda3/lib/python3.10', '/home/sulav.pokharel/anaconda3/lib/python3.10/lib-dynload', '', '/home/sulav.pokharel/Documents/Repositories/Extras/Inteliome Schema Validator/venv/lib/python3.10/site-packages', '/home/sulav.pokharel/Documents/Repositories/Extras/Inteliome Schema Validator']\n"
     ]
    }
   ],
   "source": [
    "sys.path.append('/home/sulav.pokharel/Documents/Repositories/Extras/Inteliome Schema Validator')\n",
    "print(sys.path)\n",
    "\n",
    "from generator.schema_generator import SchemaGenerator"
   ]
  },
  {
   "cell_type": "code",
   "execution_count": null,
   "metadata": {},
   "outputs": [],
   "source": []
  },
  {
   "cell_type": "code",
   "execution_count": 7,
   "metadata": {},
   "outputs": [
    {
     "name": "stderr",
     "output_type": "stream",
     "text": [
      " models.py:5011:AFC is enabled with max remote calls: 10.\n"
     ]
    },
    {
     "name": "stdout",
     "output_type": "stream",
     "text": [
      "{'table_name': 'departments', 'schema': None, 'primary_key': ['department_id'], 'columns': [{'name': 'department_id', 'type': 'INT', 'size': None, 'references': None, 'unique': False, 'nullable': False, 'default': None, 'check': None}, {'name': 'department_code', 'type': 'VARCHAR', 'size': 10, 'references': None, 'unique': True, 'nullable': True, 'default': None, 'check': None}, {'name': 'name', 'type': 'VARCHAR', 'size': 100, 'references': None, 'unique': False, 'nullable': False, 'default': None, 'check': None}], 'alter': {}, 'checks': [], 'index': [], 'partitioned_by': [], 'tablespace': None, 'temp': False, 'stored_as': None, 'row_format': None, 'fields_terminated_by': None, 'lines_terminated_by': None, 'map_keys_terminated_by': None, 'collection_items_terminated_by': None, 'external': False}\n"
     ]
    },
    {
     "name": "stderr",
     "output_type": "stream",
     "text": [
      "_client.py:1025:HTTP Request: POST https://generativelanguage.googleapis.com/v1beta/models/gemini-2.0-flash-lite:generateContent \"HTTP/1.1 200 OK\"\n",
      " models.py:5022:AFC remote call 1 is done.\n",
      " models.py:5011:AFC is enabled with max remote calls: 10.\n",
      "_client.py:1025:HTTP Request: POST https://generativelanguage.googleapis.com/v1beta/models/gemini-2.0-flash-lite:generateContent \"HTTP/1.1 200 OK\"\n",
      " models.py:5022:AFC remote call 1 is done.\n",
      " models.py:5011:AFC is enabled with max remote calls: 10.\n",
      "_client.py:1025:HTTP Request: POST https://generativelanguage.googleapis.com/v1beta/models/gemini-2.0-flash-lite:generateContent \"HTTP/1.1 200 OK\"\n",
      " models.py:5022:AFC remote call 1 is done.\n",
      " models.py:5011:AFC is enabled with max remote calls: 10.\n",
      "_client.py:1025:HTTP Request: POST https://generativelanguage.googleapis.com/v1beta/models/gemini-2.0-flash-lite:generateContent \"HTTP/1.1 200 OK\"\n",
      " models.py:5022:AFC remote call 1 is done.\n",
      " models.py:5011:AFC is enabled with max remote calls: 10.\n"
     ]
    },
    {
     "name": "stdout",
     "output_type": "stream",
     "text": [
      "subject_area='organization departments information' table_info=[TableInfo(table='departments', joins=[])] columns={'department_id': Column(name='department_id', type='INT', column='department_id', desc='Unique identifier for each department in the organization.', primary_key=True, foreign_key=False, fetch=None), 'department_code': Column(name='department_code', type='VARCHAR', column='department_code', desc='Unique identifier for a specific department within the organization.', primary_key=False, foreign_key=False, fetch=None), 'name': Column(name='name', type='VARCHAR', column='name', desc='Name of the department within the organization.', primary_key=False, foreign_key=False, fetch=None)}\n",
      "{'table_name': 'professors', 'schema': None, 'primary_key': ['professor_id'], 'columns': [{'name': 'professor_id', 'type': 'INT', 'size': None, 'references': None, 'unique': False, 'nullable': False, 'default': None, 'check': None}, {'name': 'name', 'type': 'VARCHAR', 'size': 100, 'references': None, 'unique': False, 'nullable': False, 'default': None, 'check': None}, {'name': 'department_codee', 'type': 'VARCHAR', 'size': 10, 'references': {'table': 'departments', 'schema': None, 'on_delete': None, 'on_update': None, 'deferrable_initially': None, 'column': 'department_code'}, 'unique': False, 'nullable': True, 'default': None, 'check': None}], 'alter': {}, 'checks': [], 'index': [], 'partitioned_by': [], 'tablespace': None, 'temp': False, 'stored_as': None, 'row_format': None, 'fields_terminated_by': None, 'lines_terminated_by': None, 'map_keys_terminated_by': None, 'collection_items_terminated_by': None, 'external': False}\n"
     ]
    },
    {
     "name": "stderr",
     "output_type": "stream",
     "text": [
      "_client.py:1025:HTTP Request: POST https://generativelanguage.googleapis.com/v1beta/models/gemini-2.0-flash-lite:generateContent \"HTTP/1.1 200 OK\"\n",
      " models.py:5022:AFC remote call 1 is done.\n",
      " models.py:5011:AFC is enabled with max remote calls: 10.\n",
      "_client.py:1025:HTTP Request: POST https://generativelanguage.googleapis.com/v1beta/models/gemini-2.0-flash-lite:generateContent \"HTTP/1.1 200 OK\"\n",
      " models.py:5022:AFC remote call 1 is done.\n",
      " models.py:5011:AFC is enabled with max remote calls: 10.\n",
      "_client.py:1025:HTTP Request: POST https://generativelanguage.googleapis.com/v1beta/models/gemini-2.0-flash-lite:generateContent \"HTTP/1.1 200 OK\"\n",
      " models.py:5022:AFC remote call 1 is done.\n",
      " models.py:5011:AFC is enabled with max remote calls: 10.\n",
      "_client.py:1025:HTTP Request: POST https://generativelanguage.googleapis.com/v1beta/models/gemini-2.0-flash-lite:generateContent \"HTTP/1.1 200 OK\"\n",
      " models.py:5022:AFC remote call 1 is done.\n",
      " models.py:5011:AFC is enabled with max remote calls: 10.\n"
     ]
    },
    {
     "name": "stdout",
     "output_type": "stream",
     "text": [
      "subject_area='professor information' table_info=[TableInfo(table='professors', joins=['professors.department_codee = departments.department_code'])] columns={'professor_id': Column(name='professor_id', type='INT', column='professor_id', desc='Unique identifier for each professor in the database.', primary_key=True, foreign_key=False, fetch=None), 'name': Column(name='name', type='VARCHAR', column='name', desc=\"Professor's full name, including first and last names.\", primary_key=False, foreign_key=False, fetch=None), 'department_codee': Column(name='department_codee', type='VARCHAR', column='department_codee', desc='Code representing the department affiliation of the professor.', primary_key=False, foreign_key=True, fetch=None)}\n",
      "{'table_name': 'students', 'schema': None, 'primary_key': ['student_id'], 'columns': [{'name': 'student_id', 'type': 'INT', 'size': None, 'references': None, 'unique': False, 'nullable': False, 'default': None, 'check': None}, {'name': 'name', 'type': 'VARCHAR', 'size': 100, 'references': None, 'unique': False, 'nullable': False, 'default': None, 'check': None}, {'name': 'email', 'type': 'VARCHAR', 'size': 100, 'references': None, 'unique': True, 'nullable': True, 'default': None, 'check': None}, {'name': 'enrollment_year', 'type': 'INT', 'size': None, 'references': None, 'unique': False, 'nullable': True, 'default': None, 'check': None}], 'alter': {}, 'checks': [], 'index': [], 'partitioned_by': [], 'tablespace': None, 'temp': False, 'stored_as': None, 'row_format': None, 'fields_terminated_by': None, 'lines_terminated_by': None, 'map_keys_terminated_by': None, 'collection_items_terminated_by': None, 'external': False}\n"
     ]
    },
    {
     "name": "stderr",
     "output_type": "stream",
     "text": [
      "_client.py:1025:HTTP Request: POST https://generativelanguage.googleapis.com/v1beta/models/gemini-2.0-flash-lite:generateContent \"HTTP/1.1 200 OK\"\n",
      " models.py:5022:AFC remote call 1 is done.\n",
      " models.py:5011:AFC is enabled with max remote calls: 10.\n",
      "_client.py:1025:HTTP Request: POST https://generativelanguage.googleapis.com/v1beta/models/gemini-2.0-flash-lite:generateContent \"HTTP/1.1 200 OK\"\n",
      " models.py:5022:AFC remote call 1 is done.\n",
      " models.py:5011:AFC is enabled with max remote calls: 10.\n",
      "_client.py:1025:HTTP Request: POST https://generativelanguage.googleapis.com/v1beta/models/gemini-2.0-flash-lite:generateContent \"HTTP/1.1 200 OK\"\n",
      " models.py:5022:AFC remote call 1 is done.\n",
      " models.py:5011:AFC is enabled with max remote calls: 10.\n",
      "_client.py:1025:HTTP Request: POST https://generativelanguage.googleapis.com/v1beta/models/gemini-2.0-flash-lite:generateContent \"HTTP/1.1 200 OK\"\n",
      " models.py:5022:AFC remote call 1 is done.\n",
      " models.py:5011:AFC is enabled with max remote calls: 10.\n",
      "_client.py:1025:HTTP Request: POST https://generativelanguage.googleapis.com/v1beta/models/gemini-2.0-flash-lite:generateContent \"HTTP/1.1 200 OK\"\n",
      " models.py:5022:AFC remote call 1 is done.\n",
      " models.py:5011:AFC is enabled with max remote calls: 10.\n"
     ]
    },
    {
     "name": "stdout",
     "output_type": "stream",
     "text": [
      "subject_area='student enrollment data' table_info=[TableInfo(table='students', joins=[])] columns={'student_id': Column(name='student_id', type='INT', column='student_id', desc='Unique numerical identifier assigned to each student.', primary_key=True, foreign_key=False, fetch=None), 'name': Column(name='name', type='VARCHAR', column='name', desc=\"Student's full name, typically including first and last names.\", primary_key=False, foreign_key=False, fetch=None), 'email': Column(name='email', type='VARCHAR', column='email', desc=\"Student's email address, used for communication and identification.\", primary_key=False, foreign_key=False, fetch=None), 'enrollment_year': Column(name='enrollment_year', type='INT', column='enrollment_year', desc='Year the student began their studies.', primary_key=False, foreign_key=False, fetch=None)}\n",
      "{'table_name': 'courses', 'schema': None, 'primary_key': ['course_id'], 'columns': [{'name': 'course_id', 'type': 'INT', 'size': None, 'references': None, 'unique': False, 'nullable': False, 'default': None, 'check': None}, {'name': 'title', 'type': 'VARCHAR', 'size': 100, 'references': None, 'unique': False, 'nullable': False, 'default': None, 'check': None}, {'name': 'department_id', 'type': 'INT', 'size': None, 'references': {'table': 'departments', 'schema': None, 'on_delete': None, 'on_update': None, 'deferrable_initially': None, 'column': 'department_id'}, 'unique': False, 'nullable': True, 'default': None, 'check': None}, {'name': 'professor_id', 'type': 'INT', 'size': None, 'references': {'table': 'professors', 'schema': None, 'on_delete': None, 'on_update': None, 'deferrable_initially': None, 'column': 'professor_id'}, 'unique': False, 'nullable': True, 'default': None, 'check': None}], 'alter': {}, 'checks': [], 'index': [], 'partitioned_by': [], 'tablespace': None, 'temp': False, 'stored_as': None, 'row_format': None, 'fields_terminated_by': None, 'lines_terminated_by': None, 'map_keys_terminated_by': None, 'collection_items_terminated_by': None, 'external': False}\n"
     ]
    },
    {
     "name": "stderr",
     "output_type": "stream",
     "text": [
      "_client.py:1025:HTTP Request: POST https://generativelanguage.googleapis.com/v1beta/models/gemini-2.0-flash-lite:generateContent \"HTTP/1.1 200 OK\"\n",
      " models.py:5022:AFC remote call 1 is done.\n",
      " models.py:5011:AFC is enabled with max remote calls: 10.\n",
      "_client.py:1025:HTTP Request: POST https://generativelanguage.googleapis.com/v1beta/models/gemini-2.0-flash-lite:generateContent \"HTTP/1.1 200 OK\"\n",
      " models.py:5022:AFC remote call 1 is done.\n",
      " models.py:5011:AFC is enabled with max remote calls: 10.\n",
      "_client.py:1025:HTTP Request: POST https://generativelanguage.googleapis.com/v1beta/models/gemini-2.0-flash-lite:generateContent \"HTTP/1.1 200 OK\"\n",
      " models.py:5022:AFC remote call 1 is done.\n",
      " models.py:5011:AFC is enabled with max remote calls: 10.\n",
      "_client.py:1025:HTTP Request: POST https://generativelanguage.googleapis.com/v1beta/models/gemini-2.0-flash-lite:generateContent \"HTTP/1.1 200 OK\"\n",
      " models.py:5022:AFC remote call 1 is done.\n",
      " models.py:5011:AFC is enabled with max remote calls: 10.\n",
      "_client.py:1025:HTTP Request: POST https://generativelanguage.googleapis.com/v1beta/models/gemini-2.0-flash-lite:generateContent \"HTTP/1.1 200 OK\"\n",
      " models.py:5022:AFC remote call 1 is done.\n",
      " models.py:5011:AFC is enabled with max remote calls: 10.\n"
     ]
    },
    {
     "name": "stdout",
     "output_type": "stream",
     "text": [
      "subject_area='course offerings details' table_info=[TableInfo(table='courses', joins=['courses.department_id = departments.department_id', 'courses.professor_id = professors.professor_id'])] columns={'course_id': Column(name='course_id', type='INT', column='course_id', desc='Unique identifier for a specific course offering.', primary_key=True, foreign_key=False, fetch=None), 'title': Column(name='title', type='VARCHAR', column='title', desc='Course title, such as the name of the class.', primary_key=False, foreign_key=False, fetch=None), 'department_id': Column(name='department_id', type='INT', column='department_id', desc=\"Foreign key referencing the department's unique identifier.\", primary_key=False, foreign_key=True, fetch=None), 'professor_id': Column(name='professor_id', type='INT', column='professor_id', desc='ID of the professor teaching the specific course.', primary_key=False, foreign_key=True, fetch=None)}\n",
      "{'table_name': 'enrollments', 'schema': None, 'primary_key': ['enrollment_id'], 'columns': [{'name': 'enrollment_id', 'type': 'INT', 'size': None, 'references': None, 'unique': False, 'nullable': False, 'default': None, 'check': None}, {'name': 'student_id', 'type': 'INT', 'size': None, 'references': {'table': 'students', 'schema': None, 'on_delete': None, 'on_update': None, 'deferrable_initially': None, 'column': 'student_id'}, 'unique': False, 'nullable': True, 'default': None, 'check': None}, {'name': 'course_id', 'type': 'INT', 'size': None, 'references': {'table': 'courses', 'schema': None, 'on_delete': None, 'on_update': None, 'deferrable_initially': None, 'column': 'course_id'}, 'unique': False, 'nullable': True, 'default': None, 'check': None}, {'name': 'enrollment_date', 'type': 'DATE', 'size': None, 'references': None, 'unique': False, 'nullable': True, 'default': None, 'check': None}, {'name': 'grade', 'type': 'CHAR', 'size': 2, 'references': None, 'unique': False, 'nullable': True, 'default': None, 'check': None}], 'alter': {}, 'checks': [], 'index': [], 'partitioned_by': [], 'tablespace': None, 'temp': False, 'stored_as': None, 'row_format': None, 'fields_terminated_by': None, 'lines_terminated_by': None, 'map_keys_terminated_by': None, 'collection_items_terminated_by': None, 'external': False}\n"
     ]
    },
    {
     "name": "stderr",
     "output_type": "stream",
     "text": [
      "_client.py:1025:HTTP Request: POST https://generativelanguage.googleapis.com/v1beta/models/gemini-2.0-flash-lite:generateContent \"HTTP/1.1 200 OK\"\n",
      " models.py:5022:AFC remote call 1 is done.\n",
      " models.py:5011:AFC is enabled with max remote calls: 10.\n",
      "_client.py:1025:HTTP Request: POST https://generativelanguage.googleapis.com/v1beta/models/gemini-2.0-flash-lite:generateContent \"HTTP/1.1 200 OK\"\n",
      " models.py:5022:AFC remote call 1 is done.\n",
      " models.py:5011:AFC is enabled with max remote calls: 10.\n",
      "_client.py:1025:HTTP Request: POST https://generativelanguage.googleapis.com/v1beta/models/gemini-2.0-flash-lite:generateContent \"HTTP/1.1 200 OK\"\n",
      " models.py:5022:AFC remote call 1 is done.\n",
      " models.py:5011:AFC is enabled with max remote calls: 10.\n",
      "_client.py:1025:HTTP Request: POST https://generativelanguage.googleapis.com/v1beta/models/gemini-2.0-flash-lite:generateContent \"HTTP/1.1 200 OK\"\n",
      " models.py:5022:AFC remote call 1 is done.\n",
      " models.py:5011:AFC is enabled with max remote calls: 10.\n",
      "_client.py:1025:HTTP Request: POST https://generativelanguage.googleapis.com/v1beta/models/gemini-2.0-flash-lite:generateContent \"HTTP/1.1 200 OK\"\n",
      " models.py:5022:AFC remote call 1 is done.\n",
      " models.py:5011:AFC is enabled with max remote calls: 10.\n",
      "_client.py:1025:HTTP Request: POST https://generativelanguage.googleapis.com/v1beta/models/gemini-2.0-flash-lite:generateContent \"HTTP/1.1 200 OK\"\n",
      " models.py:5022:AFC remote call 1 is done.\n"
     ]
    },
    {
     "name": "stdout",
     "output_type": "stream",
     "text": [
      "subject_area='student course enrollment' table_info=[TableInfo(table='enrollments', joins=['enrollments.student_id = students.student_id', 'enrollments.course_id = courses.course_id'])] columns={'enrollment_id': Column(name='enrollment_id', type='INT', column='enrollment_id', desc='Unique identifier for a specific enrollment record.', primary_key=True, foreign_key=False, fetch=None), 'student_id': Column(name='student_id', type='INT', column='student_id', desc='Unique identifier for each student enrolled in the course.', primary_key=False, foreign_key=True, fetch=None), 'course_id': Column(name='course_id', type='INT', column='course_id', desc='Unique identifier for the course the student is enrolled in.', primary_key=False, foreign_key=True, fetch=None), 'enrollment_date': Column(name='enrollment_date', type='DATE', column='enrollment_date', desc='Date the student began the enrollment period.', primary_key=False, foreign_key=False, fetch=None), 'grade': Column(name='grade', type='CHAR', column='grade', desc='Letter grade earned in the enrolled course.', primary_key=False, foreign_key=False, fetch=None)}\n"
     ]
    }
   ],
   "source": [
    "schema = SchemaGenerator().generate(ddl=ddl)\n",
    "# pprint(schema)\n"
   ]
  },
  {
   "cell_type": "code",
   "execution_count": 8,
   "metadata": {},
   "outputs": [
    {
     "name": "stdout",
     "output_type": "stream",
     "text": [
      "{'courses': GeneratedSchema(subject_area='course offerings details', table_info=[TableInfo(table='courses', joins=['courses.department_id = departments.department_id', 'courses.professor_id = professors.professor_id'])], columns={'course_id': Column(name='course_id', type='INT', column='course_id', desc='Unique identifier for a specific course offering.', primary_key=True, foreign_key=False, fetch=None), 'title': Column(name='title', type='VARCHAR', column='title', desc='Course title, such as the name of the class.', primary_key=False, foreign_key=False, fetch=None), 'department_id': Column(name='department_id', type='INT', column='department_id', desc=\"Foreign key referencing the department's unique identifier.\", primary_key=False, foreign_key=True, fetch=None), 'professor_id': Column(name='professor_id', type='INT', column='professor_id', desc='ID of the professor teaching the specific course.', primary_key=False, foreign_key=True, fetch=None)}),\n",
      " 'departments': GeneratedSchema(subject_area='organization departments information', table_info=[TableInfo(table='departments', joins=[])], columns={'department_id': Column(name='department_id', type='INT', column='department_id', desc='Unique identifier for each department in the organization.', primary_key=True, foreign_key=False, fetch=None), 'department_code': Column(name='department_code', type='VARCHAR', column='department_code', desc='Unique identifier for a specific department within the organization.', primary_key=False, foreign_key=False, fetch=None), 'name': Column(name='name', type='VARCHAR', column='name', desc='Name of the department within the organization.', primary_key=False, foreign_key=False, fetch=None)}),\n",
      " 'enrollments': GeneratedSchema(subject_area='student course enrollment', table_info=[TableInfo(table='enrollments', joins=['enrollments.student_id = students.student_id', 'enrollments.course_id = courses.course_id'])], columns={'enrollment_id': Column(name='enrollment_id', type='INT', column='enrollment_id', desc='Unique identifier for a specific enrollment record.', primary_key=True, foreign_key=False, fetch=None), 'student_id': Column(name='student_id', type='INT', column='student_id', desc='Unique identifier for each student enrolled in the course.', primary_key=False, foreign_key=True, fetch=None), 'course_id': Column(name='course_id', type='INT', column='course_id', desc='Unique identifier for the course the student is enrolled in.', primary_key=False, foreign_key=True, fetch=None), 'enrollment_date': Column(name='enrollment_date', type='DATE', column='enrollment_date', desc='Date the student began the enrollment period.', primary_key=False, foreign_key=False, fetch=None), 'grade': Column(name='grade', type='CHAR', column='grade', desc='Letter grade earned in the enrolled course.', primary_key=False, foreign_key=False, fetch=None)}),\n",
      " 'professors': GeneratedSchema(subject_area='professor information', table_info=[TableInfo(table='professors', joins=['professors.department_codee = departments.department_code'])], columns={'professor_id': Column(name='professor_id', type='INT', column='professor_id', desc='Unique identifier for each professor in the database.', primary_key=True, foreign_key=False, fetch=None), 'name': Column(name='name', type='VARCHAR', column='name', desc=\"Professor's full name, including first and last names.\", primary_key=False, foreign_key=False, fetch=None), 'department_codee': Column(name='department_codee', type='VARCHAR', column='department_codee', desc='Code representing the department affiliation of the professor.', primary_key=False, foreign_key=True, fetch=None)}),\n",
      " 'students': GeneratedSchema(subject_area='student enrollment data', table_info=[TableInfo(table='students', joins=[])], columns={'student_id': Column(name='student_id', type='INT', column='student_id', desc='Unique numerical identifier assigned to each student.', primary_key=True, foreign_key=False, fetch=None), 'name': Column(name='name', type='VARCHAR', column='name', desc=\"Student's full name, typically including first and last names.\", primary_key=False, foreign_key=False, fetch=None), 'email': Column(name='email', type='VARCHAR', column='email', desc=\"Student's email address, used for communication and identification.\", primary_key=False, foreign_key=False, fetch=None), 'enrollment_year': Column(name='enrollment_year', type='INT', column='enrollment_year', desc='Year the student began their studies.', primary_key=False, foreign_key=False, fetch=None)})}\n"
     ]
    }
   ],
   "source": [
    "pprint(schema)"
   ]
  },
  {
   "cell_type": "code",
   "execution_count": 9,
   "metadata": {},
   "outputs": [
    {
     "data": {
      "text/plain": [
       "dict"
      ]
     },
     "execution_count": 9,
     "metadata": {},
     "output_type": "execute_result"
    }
   ],
   "source": [
    "type(schema)"
   ]
  },
  {
   "cell_type": "code",
   "execution_count": 10,
   "metadata": {},
   "outputs": [],
   "source": [
    "def save_schemas_to_individual_yaml(schema_dict, output_dir: str):\n",
    "    os.makedirs(output_dir, exist_ok=True)\n",
    "\n",
    "    for table_name, schema in schema_dict.items():\n",
    "        file_path = os.path.join(output_dir, f\"{table_name}.yaml\")\n",
    "        with open(file_path, \"w\") as f:\n",
    "            yaml.dump(schema.model_dump(mode=\"python\"), f, sort_keys=False, default_flow_style=False)\n"
   ]
  },
  {
   "cell_type": "code",
   "execution_count": 11,
   "metadata": {},
   "outputs": [],
   "source": [
    "save_schemas_to_individual_yaml(schema, output_dir=\"../output/schema/deparments\")\n"
   ]
  },
  {
   "cell_type": "code",
   "execution_count": null,
   "metadata": {},
   "outputs": [],
   "source": []
  }
 ],
 "metadata": {
  "kernelspec": {
   "display_name": "venv",
   "language": "python",
   "name": "python3"
  },
  "language_info": {
   "codemirror_mode": {
    "name": "ipython",
    "version": 3
   },
   "file_extension": ".py",
   "mimetype": "text/x-python",
   "name": "python",
   "nbconvert_exporter": "python",
   "pygments_lexer": "ipython3",
   "version": "3.10.9"
  }
 },
 "nbformat": 4,
 "nbformat_minor": 2
}
